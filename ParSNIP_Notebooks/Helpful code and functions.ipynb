{
 "cells": [
  {
   "cell_type": "code",
   "execution_count": 2,
   "id": "fb36e15b",
   "metadata": {},
   "outputs": [],
   "source": [
    "import parsnip\n",
    "import numpy as np\n",
    "import pandas as pd\n",
    "from matplotlib import pyplot as plt\n",
    "import glob\n",
    "import json\n",
    "import lcdata\n",
    "import os\n",
    "import pickle\n",
    "import astropy.io\n",
    "from astropy.io import fits\n",
    "from astropy.table import Table, Column, join, hstack, vstack, unique, setdiff\n",
    "import h5py\n",
    "from scipy import stats"
   ]
  },
  {
   "cell_type": "markdown",
   "id": "a5657648",
   "metadata": {},
   "source": [
    "This function goes through a confusion matrix table, picking out the most likely transient type and adding it to the predictions table. Just call it and give it predictions and classifications"
   ]
  },
  {
   "cell_type": "code",
   "execution_count": 3,
   "id": "d974e914",
   "metadata": {},
   "outputs": [],
   "source": [
    "#This code goes through a confusion matrix table, picking out the most likely transient type and adding it to the predictions table\n",
    "def add_prob(predictions, classifications):\n",
    "    if predictions['type'][0] == 'Unknown':\n",
    "        predictions.add_column([1.05], index=4, name='probability') #add if statement to make this only run if col doesn't exist\n",
    "        maxval = 0\n",
    "        maxtype = 'hi'\n",
    "        columns = ['KN', 'SLSN-I', 'SNII', 'SNIa', 'SNIa-91bg', 'SNIax', 'SNIbc', 'TDE']\n",
    "        for row in range(len(classifications)):\n",
    "            for c in columns:\n",
    "                if classifications[row][c] >= maxval:\n",
    "                    maxval = classifications[c][row]\n",
    "                    maxtype = c\n",
    "            predictions['type'][row] = maxtype\n",
    "            predictions['probability'][row] = maxval\n",
    "            maxval = 0\n",
    "            maxtype = 'hi again'\n",
    "    else:\n",
    "        return 'this function has already been run for these predictions'"
   ]
  },
  {
   "cell_type": "markdown",
   "id": "658c3b14",
   "metadata": {},
   "source": [
    "This is the function to change dataset bands to lsst or ps1 types. If the band is currently just the letter (eg z), call 'none_lsst' to convert to lsst or 'none_ps1' to convert to ps1. Give it the dataset and the 'model'."
   ]
  },
  {
   "cell_type": "code",
   "execution_count": 4,
   "id": "93193cb0",
   "metadata": {},
   "outputs": [],
   "source": [
    "def band_swap(dataset, model, path = './bandswap_dataset.h5'):   #model is either ps1 or plasticc, path is a string\n",
    "    if not os.path.exists(path):\n",
    "        astropy.io.misc.hdf5.write_table_hdf5(dataset, path, overwrite=True)\n",
    "    dataset_clone = dataset[:]\n",
    "    for i in range(len(dataset)):\n",
    "        dataset_clone.light_curves[i]['band'] = dataset_clone.light_curves[i]['band'].astype(np.dtype('U6'))\n",
    "        l_c = dataset.light_curves[i]\n",
    "        if model == 'ps1':\n",
    "            for j in range(len(l_c)):\n",
    "                band = l_c['band'][j]\n",
    "                if 'r' in band:\n",
    "                    dataset_clone.light_curves[i]['band'][j] = 'ps1::r'\n",
    "                if 'g' in band:\n",
    "                    dataset_clone.light_curves[i]['band'][j] = 'ps1::g'\n",
    "                if 'z' in band:\n",
    "                    dataset_clone.light_curves[i]['band'][j] = 'ps1::z'\n",
    "        if model == 'plasticc':\n",
    "            for k in range(len(l_c)):\n",
    "                band = l_c['band'][k]\n",
    "                if 'r' in band:\n",
    "                    dataset_clone.light_curves[i]['band'][k] = 'lsstr'\n",
    "                if 'g' in band:\n",
    "                    dataset_clone.light_curves[i]['band'][k] = 'lsstg'\n",
    "                if 'z' in band:\n",
    "                    dataset_clone.light_curves[i]['band'][k] = 'lsstz'\n",
    "        if model == 'none_lsst':\n",
    "            for k in range(len(l_c)):\n",
    "                band = l_c['band'][k]\n",
    "                if band == 'r':\n",
    "                    dataset_clone.light_curves[i]['band'][k] = 'lsstr'\n",
    "                if band == 'g':\n",
    "                    dataset_clone.light_curves[i]['band'][k] = 'lsstg'\n",
    "                if band == 'z':\n",
    "                    dataset_clone.light_curves[i]['band'][k] = 'lsstz'\n",
    "        if model == 'none_ps1':\n",
    "            for k in range(len(l_c)):\n",
    "                band = l_c['band'][k]\n",
    "                if band == 'r':\n",
    "                    dataset_clone.light_curves[i]['band'][k] = 'ps1::r'\n",
    "                if band == 'g':\n",
    "                    dataset_clone.light_curves[i]['band'][k] = 'ps1::g'\n",
    "                if band == 'z':\n",
    "                    dataset_clone.light_curves[i]['band'][k] = 'ps1::z'\n",
    "    return dataset_clone"
   ]
  },
  {
   "cell_type": "code",
   "execution_count": 9,
   "id": "2349a698",
   "metadata": {},
   "outputs": [],
   "source": [
    "def band_swap2(dataset, model, path = './bandswap_dataset.h5'):   #model is either ps1 or plasticc, path is a string\n",
    "    #if not os.path.exists(path):\n",
    "        #astropy.io.misc.hdf5.write_table_hdf5(dataset, path, overwrite=True)\n",
    "    dataset_clone = dataset[:]\n",
    "    for i in range(len(dataset)):\n",
    "        dataset_clone.light_curves[i]['band'] = dataset_clone.light_curves[i]['band'].astype(np.dtype('U6'))\n",
    "        l_c = dataset.light_curves[i]\n",
    "        if model == 'ps1':\n",
    "            for j in range(len(l_c)):\n",
    "                band = l_c['band'][j]\n",
    "                if 'r' in band:\n",
    "                    dataset_clone.light_curves[i]['band'][j] = 'ps1::r'\n",
    "                if 'g' in band:\n",
    "                    dataset_clone.light_curves[i]['band'][j] = 'ps1::g'\n",
    "                if 'z' in band:\n",
    "                    dataset_clone.light_curves[i]['band'][j] = 'ps1::z'\n",
    "        if model == 'plasticc':\n",
    "            for k in range(len(l_c)):\n",
    "                band = l_c['band'][k]\n",
    "                if 'r' in band:\n",
    "                    dataset_clone.light_curves[i]['band'][k] = 'lsstr'\n",
    "                if 'g' in band:\n",
    "                    dataset_clone.light_curves[i]['band'][k] = 'lsstg'\n",
    "                if 'z' in band:\n",
    "                    dataset_clone.light_curves[i]['band'][k] = 'lsstz'\n",
    "        if model == 'none_lsst':\n",
    "            for k in range(len(l_c)):\n",
    "                band = l_c['band'][k]\n",
    "                if band == 'r':\n",
    "                    dataset_clone.light_curves[i]['band'][k] = 'lsstr'\n",
    "                if band == 'g':\n",
    "                    dataset_clone.light_curves[i]['band'][k] = 'lsstg'\n",
    "                if band == 'z':\n",
    "                    dataset_clone.light_curves[i]['band'][k] = 'lsstz'\n",
    "        if model == 'none_ps1':\n",
    "            for k in range(len(l_c)):\n",
    "                band = l_c['band'][k]\n",
    "                if band == 'r':\n",
    "                    dataset_clone.light_curves[i]['band'][k] = 'ps1::r'\n",
    "                if band == 'g':\n",
    "                    dataset_clone.light_curves[i]['band'][k] = 'ps1::g'\n",
    "                if band == 'z':\n",
    "                    dataset_clone.light_curves[i]['band'][k] = 'ps1::z'\n",
    "    return dataset_clone"
   ]
  },
  {
   "cell_type": "markdown",
   "id": "fb50822c",
   "metadata": {},
   "source": [
    "Here is the stats table creator. Give it a predictions table with included type and probability (in other words, run the add_prob function), as well as the probability threshold (e.g. inputting 0.85 will result in a stats table looking at transients with probability greater than 0.85"
   ]
  },
  {
   "cell_type": "code",
   "execution_count": 5,
   "id": "b89169c6",
   "metadata": {},
   "outputs": [],
   "source": [
    "def create_stats_table(predictions, prob_threshold):\n",
    "    type_list = ['KN', 'SLSN-I', 'SNII', 'SNIa', 'SNIa-91', 'SNIax', 'SNIbc', 'TDE']\n",
    "    dtypes = ('str','int64','int64','float64','float64','float64','float64','int64','int64','int64')\n",
    "    colnames = ('Type', 'Total', 'Objects with prob > ' + str(prob_threshold), 'Highest Prob', 'Lowest Prob', 'Mean Prob', 'Median Prob', 'Max Data pts', 'Min Data pts', 'Ave Data pts')\n",
    "    rows = []\n",
    "    for i in range(len(type_list)):\n",
    "        typ = type_list[i]\n",
    "        current_table = predictions[predictions['type'] == typ]\n",
    "        if len(current_table) > 0:   \n",
    "            tot = len(current_table)\n",
    "            prob = len(current_table[current_table['probability'] >= prob_threshold])\n",
    "            highest = np.round(max(current_table['probability']), 3)\n",
    "            lowest = np.round(min(current_table['probability']), 3)\n",
    "            mean = np.round(sum(current_table['probability'])/len(current_table), 3)\n",
    "            median = np.round(statistics.median(current_table['probability']), 3)\n",
    "            maxpts = max(current_table['count'])\n",
    "            minpts = min(current_table['count'])\n",
    "            avgpts = np.round(sum(current_table['count'])/len(current_table))\n",
    "            row = [typ, tot, prob, highest, lowest, mean, median, maxpts, minpts, avgpts]\n",
    "            rows.append(row)\n",
    "    stats_table = Table(names = colnames, dtype = dtypes)\n",
    "    for row in rows:\n",
    "        stats_table.add_row(row)\n",
    "    return stats_table"
   ]
  },
  {
   "cell_type": "code",
   "execution_count": 34,
   "id": "6282b7fc",
   "metadata": {},
   "outputs": [
    {
     "data": {
      "text/plain": [
       "(1226, 447.0)"
      ]
     },
     "execution_count": 34,
     "metadata": {},
     "output_type": "execute_result"
    }
   ],
   "source": [
    "1268 - 42, 894/2"
   ]
  },
  {
   "cell_type": "code",
   "execution_count": null,
   "id": "322b8442",
   "metadata": {},
   "outputs": [],
   "source": [
    "dataset3 = lcdata.read_hdf5('./DCDE2_535_transients_USING_MAG_APERc_photoz_if_NoZSPEC.h5')"
   ]
  },
  {
   "cell_type": "code",
   "execution_count": 29,
   "id": "7034d496",
   "metadata": {},
   "outputs": [],
   "source": [
    "dataset2 = lcdata.read_hdf5('./DCDE3_1086_transients_USING_MAG_APERc_photoz_if_NoZSPEC.h5')"
   ]
  },
  {
   "cell_type": "code",
   "execution_count": 28,
   "id": "293f1463",
   "metadata": {},
   "outputs": [],
   "source": [
    "dataset4 = lcdata.read_hdf5('./DCDE4_1027_transients_USING_MAG_APERc_photoz_if_NoZSPEC.h5')"
   ]
  },
  {
   "cell_type": "code",
   "execution_count": 40,
   "id": "d7aedfaa",
   "metadata": {},
   "outputs": [],
   "source": [
    "dataset5 = lcdata.read_hdf5('./DCDE5_446_transients_USING_MAG_APERc_photoz_if_NoZSPEC.h5')"
   ]
  },
  {
   "cell_type": "code",
   "execution_count": 41,
   "id": "0861f38f",
   "metadata": {},
   "outputs": [
    {
     "data": {
      "text/html": [
       "<div><i>Table length=25</i>\n",
       "<table id=\"table140693199408144\" class=\"table-striped table-bordered table-condensed\">\n",
       "<thead><tr><th>time</th><th>flux</th><th>fluxerr</th><th>band</th></tr></thead>\n",
       "<thead><tr><th>float64</th><th>float32</th><th>float32</th><th>bytes1</th></tr></thead>\n",
       "<tr><td>60154.39107831684</td><td>2.8722458</td><td>0.086541906</td><td>g</td></tr>\n",
       "<tr><td>60154.39223208428</td><td>2.2464502</td><td>0.0856049</td><td>r</td></tr>\n",
       "<tr><td>60154.39360457863</td><td>3.058464</td><td>0.17637336</td><td>z</td></tr>\n",
       "<tr><td>60157.38934947671</td><td>2.9424887</td><td>0.10745901</td><td>g</td></tr>\n",
       "<tr><td>60157.39048598198</td><td>2.1224566</td><td>0.09690996</td><td>r</td></tr>\n",
       "<tr><td>60157.39186177869</td><td>3.264048</td><td>0.16409469</td><td>z</td></tr>\n",
       "<tr><td>60159.29809133346</td><td>2.14698</td><td>0.20454116</td><td>r</td></tr>\n",
       "<tr><td>...</td><td>...</td><td>...</td><td>...</td></tr>\n",
       "<tr><td>60211.29245272114</td><td>3.3374898</td><td>0.15335995</td><td>z</td></tr>\n",
       "<tr><td>60214.23198786449</td><td>2.7859821</td><td>0.4225915</td><td>g</td></tr>\n",
       "<tr><td>60214.232917397225</td><td>2.6603184</td><td>0.29511055</td><td>r</td></tr>\n",
       "<tr><td>60214.23407632868</td><td>3.1181955</td><td>0.29743424</td><td>z</td></tr>\n",
       "<tr><td>60229.23193049397</td><td>3.4267375</td><td>0.065377094</td><td>g</td></tr>\n",
       "<tr><td>60229.232848686</td><td>2.6190894</td><td>0.07063115</td><td>r</td></tr>\n",
       "<tr><td>60229.23399798111</td><td>3.7198234</td><td>0.14539552</td><td>z</td></tr>\n",
       "</table></div>"
      ],
      "text/plain": [
       "<Table length=25>\n",
       "       time           flux     fluxerr    band \n",
       "     float64        float32    float32   bytes1\n",
       "------------------ --------- ----------- ------\n",
       " 60154.39107831684 2.8722458 0.086541906      g\n",
       " 60154.39223208428 2.2464502   0.0856049      r\n",
       " 60154.39360457863  3.058464  0.17637336      z\n",
       " 60157.38934947671 2.9424887  0.10745901      g\n",
       " 60157.39048598198 2.1224566  0.09690996      r\n",
       " 60157.39186177869  3.264048  0.16409469      z\n",
       " 60159.29809133346   2.14698  0.20454116      r\n",
       "               ...       ...         ...    ...\n",
       " 60211.29245272114 3.3374898  0.15335995      z\n",
       " 60214.23198786449 2.7859821   0.4225915      g\n",
       "60214.232917397225 2.6603184  0.29511055      r\n",
       " 60214.23407632868 3.1181955  0.29743424      z\n",
       " 60229.23193049397 3.4267375 0.065377094      g\n",
       "   60229.232848686 2.6190894  0.07063115      r\n",
       " 60229.23399798111 3.7198234  0.14539552      z"
      ]
     },
     "execution_count": 41,
     "metadata": {},
     "output_type": "execute_result"
    }
   ],
   "source": [
    "dataset5.light_curves[0]"
   ]
  },
  {
   "cell_type": "code",
   "execution_count": 42,
   "id": "edb2c786",
   "metadata": {},
   "outputs": [],
   "source": [
    "test5 = band_swap2(dataset5,'none_lsst')"
   ]
  },
  {
   "cell_type": "code",
   "execution_count": 43,
   "id": "55b6e1fa",
   "metadata": {
    "scrolled": true
   },
   "outputs": [
    {
     "data": {
      "text/html": [
       "<div><i>Table length=25</i>\n",
       "<table id=\"table140693199408144\" class=\"table-striped table-bordered table-condensed\">\n",
       "<thead><tr><th>time</th><th>flux</th><th>fluxerr</th><th>band</th></tr></thead>\n",
       "<thead><tr><th>float64</th><th>float32</th><th>float32</th><th>str6</th></tr></thead>\n",
       "<tr><td>60154.39107831684</td><td>2.8722458</td><td>0.086541906</td><td>lsstg</td></tr>\n",
       "<tr><td>60154.39223208428</td><td>2.2464502</td><td>0.0856049</td><td>lsstr</td></tr>\n",
       "<tr><td>60154.39360457863</td><td>3.058464</td><td>0.17637336</td><td>lsstz</td></tr>\n",
       "<tr><td>60157.38934947671</td><td>2.9424887</td><td>0.10745901</td><td>lsstg</td></tr>\n",
       "<tr><td>60157.39048598198</td><td>2.1224566</td><td>0.09690996</td><td>lsstr</td></tr>\n",
       "<tr><td>60157.39186177869</td><td>3.264048</td><td>0.16409469</td><td>lsstz</td></tr>\n",
       "<tr><td>60159.29809133346</td><td>2.14698</td><td>0.20454116</td><td>lsstr</td></tr>\n",
       "<tr><td>...</td><td>...</td><td>...</td><td>...</td></tr>\n",
       "<tr><td>60211.29245272114</td><td>3.3374898</td><td>0.15335995</td><td>lsstz</td></tr>\n",
       "<tr><td>60214.23198786449</td><td>2.7859821</td><td>0.4225915</td><td>lsstg</td></tr>\n",
       "<tr><td>60214.232917397225</td><td>2.6603184</td><td>0.29511055</td><td>lsstr</td></tr>\n",
       "<tr><td>60214.23407632868</td><td>3.1181955</td><td>0.29743424</td><td>lsstz</td></tr>\n",
       "<tr><td>60229.23193049397</td><td>3.4267375</td><td>0.065377094</td><td>lsstg</td></tr>\n",
       "<tr><td>60229.232848686</td><td>2.6190894</td><td>0.07063115</td><td>lsstr</td></tr>\n",
       "<tr><td>60229.23399798111</td><td>3.7198234</td><td>0.14539552</td><td>lsstz</td></tr>\n",
       "</table></div>"
      ],
      "text/plain": [
       "<Table length=25>\n",
       "       time           flux     fluxerr    band\n",
       "     float64        float32    float32    str6\n",
       "------------------ --------- ----------- -----\n",
       " 60154.39107831684 2.8722458 0.086541906 lsstg\n",
       " 60154.39223208428 2.2464502   0.0856049 lsstr\n",
       " 60154.39360457863  3.058464  0.17637336 lsstz\n",
       " 60157.38934947671 2.9424887  0.10745901 lsstg\n",
       " 60157.39048598198 2.1224566  0.09690996 lsstr\n",
       " 60157.39186177869  3.264048  0.16409469 lsstz\n",
       " 60159.29809133346   2.14698  0.20454116 lsstr\n",
       "               ...       ...         ...   ...\n",
       " 60211.29245272114 3.3374898  0.15335995 lsstz\n",
       " 60214.23198786449 2.7859821   0.4225915 lsstg\n",
       "60214.232917397225 2.6603184  0.29511055 lsstr\n",
       " 60214.23407632868 3.1181955  0.29743424 lsstz\n",
       " 60229.23193049397 3.4267375 0.065377094 lsstg\n",
       "   60229.232848686 2.6190894  0.07063115 lsstr\n",
       " 60229.23399798111 3.7198234  0.14539552 lsstz"
      ]
     },
     "execution_count": 43,
     "metadata": {},
     "output_type": "execute_result"
    }
   ],
   "source": [
    "test5.light_curves[0]"
   ]
  },
  {
   "cell_type": "code",
   "execution_count": 27,
   "id": "a13b5084",
   "metadata": {},
   "outputs": [],
   "source": [
    "test4.write_hdf5('./DCDE4_1027_transients_USING_MAG_APERc_photoz_if_NoZSPEC_lsst.h5')"
   ]
  },
  {
   "cell_type": "code",
   "execution_count": 44,
   "id": "ed5a9391",
   "metadata": {},
   "outputs": [],
   "source": [
    "test5.write_hdf5('./DCDE5_446_transients_USING_MAG_APERc_photoz_if_NoZSPEC_lsst.h5')"
   ]
  },
  {
   "cell_type": "code",
   "execution_count": 22,
   "id": "71ca92d7",
   "metadata": {},
   "outputs": [],
   "source": [
    "dataset3 = lcdata.read_hdf5('./DCDE4_1027_transients_photoz_if_NoZSPEC_ps1.h5')"
   ]
  },
  {
   "cell_type": "code",
   "execution_count": 23,
   "id": "f2e7184e",
   "metadata": {},
   "outputs": [
    {
     "data": {
      "text/plain": [
       "array([<Table length=11>\n",
       "              time           flux      fluxerr     band\n",
       "            float64        float32     float32    bytes6\n",
       "       ------------------ ---------- ------------ ------\n",
       "       59977.094642265656 0.07368149    5.0517325 ps1::g\n",
       "        59977.09554925231 0.08198115    5.9342055 ps1::r\n",
       "       59977.096704828575 0.23100257     5.333844 ps1::z\n",
       "       59983.100461171714  192.22896 0.0070629823 ps1::g\n",
       "        59983.10137284168 0.08198115    5.9342055 ps1::r\n",
       "        59983.10252000991 0.23100257     5.333844 ps1::z\n",
       "       59986.066317629295 0.07368149    5.0517325 ps1::g\n",
       "        59986.06725174275 0.08198115    5.9342055 ps1::r\n",
       "        59986.06841339386   384.9952  0.005770153 ps1::z\n",
       "        60139.42183215845 0.07368149    5.0517325 ps1::g\n",
       "        60139.42389003495 0.23100264    5.3338437 ps1::z,\n",
       "       <Table length=12>\n",
       "              time           flux      fluxerr     band\n",
       "            float64        float32     float32    bytes6\n",
       "       ------------------ ---------- ------------ ------\n",
       "       59977.094642265656   414.0428 0.0047562607 ps1::g\n",
       "        59977.09554925231 0.14092784    3.6204658 ps1::r\n",
       "       59977.096704828575   698.9016 0.0049185986 ps1::z\n",
       "       59983.100461171714   414.0428 0.0047562607 ps1::g\n",
       "        59983.10137284168 0.14092782    3.6204658 ps1::r\n",
       "        59983.10252000991   698.9016 0.0049185986 ps1::z\n",
       "       59986.066317629295 0.04765003     8.622439 ps1::g\n",
       "        59986.06725174275 0.14092782    3.6204658 ps1::r\n",
       "        59986.06841339386 0.17077315     8.064127 ps1::z\n",
       "        60139.42183215845 0.04765003     8.622439 ps1::g\n",
       "        60139.42274250254 0.14092782    3.6204658 ps1::r\n",
       "        60139.42389003495 0.17077315     8.064127 ps1::z,\n",
       "       <Table length=11>\n",
       "              time            flux      fluxerr     band\n",
       "            float64         float32     float32    bytes6\n",
       "       ------------------ ----------- ------------ ------\n",
       "       59977.094642265656    324.7422 0.0060609626 ps1::g\n",
       "        59977.09554925231   102.15271  0.010665741 ps1::r\n",
       "       59977.096704828575  0.98958975    1.3834257 ps1::z\n",
       "       59983.100461171714 0.013809959    32.094387 ps1::g\n",
       "        59983.10137284168    137.2579  0.013623004 ps1::r\n",
       "        59983.10252000991   1.4443021    0.8725464 ps1::z\n",
       "       59986.066317629295 0.014105587     31.26851 ps1::g\n",
       "        59986.06725174275  0.23261116    2.3147593 ps1::r\n",
       "        59986.06841339386   1.4443021    0.8725464 ps1::z\n",
       "        60139.42183215845 0.014105587     31.26851 ps1::g\n",
       "        60139.42274250254  0.23261116    2.3147593 ps1::r, ...,\n",
       "       <Table length=2>\n",
       "              time           flux     fluxerr   band\n",
       "            float64        float32    float32  bytes6\n",
       "       ------------------ ---------- --------- ------\n",
       "        60151.32808236551 0.13886091 3.1669407 ps1::g\n",
       "       60151.329008635046 0.11615492  5.157503 ps1::r,\n",
       "       <Table length=2>\n",
       "              time           flux     fluxerr   band\n",
       "            float64        float32    float32  bytes6\n",
       "       ------------------ ---------- --------- ------\n",
       "        60151.33014845489 0.04836322 7.9368196 ps1::g\n",
       "       60151.333131753774 0.27655658 1.7662469 ps1::r,\n",
       "       <Table length=32>\n",
       "              time           flux     fluxerr    band\n",
       "            float64        float32    float32   bytes6\n",
       "       ------------------ ---------- ---------- ------\n",
       "       60010.294501239376  11.965678 0.17100543 ps1::z\n",
       "        60016.37752747169  1.1168307 0.93388283 ps1::r\n",
       "        60016.37868985869  1.1418815  1.8445873 ps1::z\n",
       "        60019.35809692602  4.9570665 0.23207149 ps1::g\n",
       "        60019.35901533726  0.5651301   3.838808 ps1::z\n",
       "        60025.36992056897  0.7268884 0.84488314 ps1::g\n",
       "        60025.37084326783  1.1418815  1.8445873 ps1::z\n",
       "        60028.31358142338  0.7268884 0.84488314 ps1::g\n",
       "        60028.31450449171 0.31074065  3.4409976 ps1::r\n",
       "       60034.335518590095  0.7268884 0.84488314 ps1::g\n",
       "                      ...        ...        ...    ...\n",
       "          60076.247180265  0.4176402  3.3095803 ps1::r\n",
       "        60079.22781565548 0.06301321  10.190852 ps1::g\n",
       "          60079.228747388  0.4487876  4.8738804 ps1::z\n",
       "        60100.16725210552 0.61312795   3.532895 ps1::z\n",
       "        60103.15728876198  0.5651301   3.838808 ps1::z\n",
       "        60112.09521353534 0.13968506  4.6191835 ps1::g\n",
       "        60112.09613559682  1.0900638  1.2104847 ps1::r\n",
       "       60148.026893630165  1.1168307 0.93388283 ps1::r\n",
       "       60154.009170427045  1.1168303 0.93388283 ps1::r\n",
       "         60154.0103109612   1.141882  1.8445872 ps1::z], dtype=object)"
      ]
     },
     "execution_count": 23,
     "metadata": {},
     "output_type": "execute_result"
    }
   ],
   "source": [
    "dataset3.light_curves"
   ]
  },
  {
   "cell_type": "code",
   "execution_count": null,
   "id": "a4610b54",
   "metadata": {},
   "outputs": [],
   "source": []
  }
 ],
 "metadata": {
  "kernelspec": {
   "display_name": "Python 3 (ipykernel)",
   "language": "python",
   "name": "python3"
  },
  "language_info": {
   "codemirror_mode": {
    "name": "ipython",
    "version": 3
   },
   "file_extension": ".py",
   "mimetype": "text/x-python",
   "name": "python",
   "nbconvert_exporter": "python",
   "pygments_lexer": "ipython3",
   "version": "3.9.7"
  }
 },
 "nbformat": 4,
 "nbformat_minor": 5
}
